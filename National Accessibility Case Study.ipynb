{
 "cells": [
  {
   "cell_type": "markdown",
   "metadata": {
    "id": "bA5ajAmk7XH6"
   },
   "source": [
    "# National Accessibility Case Study\n",
    "\n",
    "### Project Brief\n",
    "\n",
    "Congratulations, you have landed your first job as a data scientist at National Accessibility! National Accessibility currently installs wheelchair ramps for office buildings and schools. However, the marketing manager wants the company to start installing ramps for event venues as well. According to a new survey, approximately 40% of event venues are not wheelchair accessible. However, it is not easy to know whether a venue already has a ramp installed. \n",
    "\n",
    "The marketing manager would like to know whether you can develop a model to predict whether an event venue has a wheelchair ramp. To help you with this, he has provided you with a dataset of London venues. This data includes whether the venue has a ramp.\n",
    "\n",
    "It is a waste of time to contact venues that already have a ramp installed, and it also looks bad for the company. Therefore, it is especially important to exclude locations that already have a ramp. Ideally, at least two-thirds of venues predicted to be without a ramp should not have a ramp. \n",
    "\n",
    "You will need to present your findings in two formats:\n",
    "- First, you will need to present your findings to the marketing manager via a 10 minute oral presentation. The owner has no technical data science background. \n",
    "- You will also need to submit a technical report to your manager, who does have a strong technical data science background.\n",
    "\n",
    "The data you will use for this analysis can be accessed here: `\"data/event_venues.csv\"`"
   ]
  },
  {
   "cell_type": "code",
   "execution_count": 2,
   "metadata": {
    "scrolled": true
   },
   "outputs": [],
   "source": [
    "# Use this cell to begin, and add as many cells as you need to complete your analysis!\n",
    "# Import packages\n",
    "import pandas as pd\n",
    "import numpy as np\n",
    "import matplotlib.pyplot as plt\n",
    "import seaborn as sns\n",
    "from sklearn.model_selection import train_test_split\n",
    "from sklearn.linear_model import LogisticRegression\n",
    "from sklearn.ensemble import RandomForestClassifier\n",
    "from sklearn.linear_model import Perceptron\n",
    "from sklearn.linear_model import SGDClassifier\n",
    "from sklearn.tree import DecisionTreeClassifier\n",
    "from sklearn.neighbors import KNeighborsClassifier\n",
    "from sklearn.svm import SVC, LinearSVC\n",
    "from sklearn.naive_bayes import GaussianNB\n",
    "from sklearn.metrics import accuracy_score\n",
    "from sklearn.model_selection import GridSearchCV\n",
    "from sklearn.model_selection import RepeatedStratifiedKFold\n",
    "from sklearn.model_selection import cross_val_score"
   ]
  },
  {
   "cell_type": "code",
   "execution_count": 3,
   "metadata": {},
   "outputs": [
    {
     "data": {
      "text/html": [
       "<div>\n",
       "<style scoped>\n",
       "    .dataframe tbody tr th:only-of-type {\n",
       "        vertical-align: middle;\n",
       "    }\n",
       "\n",
       "    .dataframe tbody tr th {\n",
       "        vertical-align: top;\n",
       "    }\n",
       "\n",
       "    .dataframe thead th {\n",
       "        text-align: right;\n",
       "    }\n",
       "</style>\n",
       "<table border=\"1\" class=\"dataframe\">\n",
       "  <thead>\n",
       "    <tr style=\"text-align: right;\">\n",
       "      <th></th>\n",
       "      <th>venue_name</th>\n",
       "      <th>Loud music / events</th>\n",
       "      <th>Venue provides alcohol</th>\n",
       "      <th>Wi-Fi</th>\n",
       "      <th>supervenue</th>\n",
       "      <th>U-Shaped_max</th>\n",
       "      <th>max_standing</th>\n",
       "      <th>Theatre_max</th>\n",
       "      <th>Promoted / ticketed events</th>\n",
       "      <th>Wheelchair accessible</th>\n",
       "    </tr>\n",
       "  </thead>\n",
       "  <tbody>\n",
       "    <tr>\n",
       "      <th>0</th>\n",
       "      <td>techspace aldgate east</td>\n",
       "      <td>False</td>\n",
       "      <td>0</td>\n",
       "      <td>True</td>\n",
       "      <td>False</td>\n",
       "      <td>35.045455</td>\n",
       "      <td>0</td>\n",
       "      <td>112.715867</td>\n",
       "      <td>False</td>\n",
       "      <td>False</td>\n",
       "    </tr>\n",
       "    <tr>\n",
       "      <th>1</th>\n",
       "      <td>green rooms hotel</td>\n",
       "      <td>True</td>\n",
       "      <td>1</td>\n",
       "      <td>True</td>\n",
       "      <td>False</td>\n",
       "      <td>40.000000</td>\n",
       "      <td>120</td>\n",
       "      <td>80.000000</td>\n",
       "      <td>True</td>\n",
       "      <td>False</td>\n",
       "    </tr>\n",
       "    <tr>\n",
       "      <th>2</th>\n",
       "      <td>148 leadenhall street</td>\n",
       "      <td>False</td>\n",
       "      <td>0</td>\n",
       "      <td>True</td>\n",
       "      <td>False</td>\n",
       "      <td>35.045455</td>\n",
       "      <td>0</td>\n",
       "      <td>112.715867</td>\n",
       "      <td>False</td>\n",
       "      <td>False</td>\n",
       "    </tr>\n",
       "    <tr>\n",
       "      <th>3</th>\n",
       "      <td>conway hall</td>\n",
       "      <td>False</td>\n",
       "      <td>0</td>\n",
       "      <td>True</td>\n",
       "      <td>False</td>\n",
       "      <td>35.045455</td>\n",
       "      <td>60</td>\n",
       "      <td>60.000000</td>\n",
       "      <td>False</td>\n",
       "      <td>False</td>\n",
       "    </tr>\n",
       "    <tr>\n",
       "      <th>4</th>\n",
       "      <td>gridiron building</td>\n",
       "      <td>False</td>\n",
       "      <td>0</td>\n",
       "      <td>True</td>\n",
       "      <td>False</td>\n",
       "      <td>35.045455</td>\n",
       "      <td>0</td>\n",
       "      <td>112.715867</td>\n",
       "      <td>False</td>\n",
       "      <td>False</td>\n",
       "    </tr>\n",
       "  </tbody>\n",
       "</table>\n",
       "</div>"
      ],
      "text/plain": [
       "               venue_name  Loud music / events  Venue provides alcohol  Wi-Fi  \\\n",
       "0  techspace aldgate east                False                       0   True   \n",
       "1       green rooms hotel                 True                       1   True   \n",
       "2   148 leadenhall street                False                       0   True   \n",
       "3             conway hall                False                       0   True   \n",
       "4       gridiron building                False                       0   True   \n",
       "\n",
       "   supervenue  U-Shaped_max  max_standing  Theatre_max  \\\n",
       "0       False     35.045455             0   112.715867   \n",
       "1       False     40.000000           120    80.000000   \n",
       "2       False     35.045455             0   112.715867   \n",
       "3       False     35.045455            60    60.000000   \n",
       "4       False     35.045455             0   112.715867   \n",
       "\n",
       "   Promoted / ticketed events  Wheelchair accessible  \n",
       "0                       False                  False  \n",
       "1                        True                  False  \n",
       "2                       False                  False  \n",
       "3                       False                  False  \n",
       "4                       False                  False  "
      ]
     },
     "execution_count": 3,
     "metadata": {},
     "output_type": "execute_result"
    }
   ],
   "source": [
    "# Import data\n",
    "df = pd.read_csv(\"event_venues.csv\")\n",
    "df.head()"
   ]
  },
  {
   "cell_type": "markdown",
   "metadata": {},
   "source": [
    "<h2> Exploratory Data Analysis </h2>"
   ]
  },
  {
   "cell_type": "code",
   "execution_count": 3,
   "metadata": {},
   "outputs": [
    {
     "name": "stdout",
     "output_type": "stream",
     "text": [
      "<class 'pandas.core.frame.DataFrame'>\n",
      "RangeIndex: 3910 entries, 0 to 3909\n",
      "Data columns (total 10 columns):\n",
      " #   Column                      Non-Null Count  Dtype  \n",
      "---  ------                      --------------  -----  \n",
      " 0   venue_name                  3910 non-null   object \n",
      " 1   Loud music / events         3910 non-null   bool   \n",
      " 2   Venue provides alcohol      3910 non-null   int64  \n",
      " 3   Wi-Fi                       3910 non-null   bool   \n",
      " 4   supervenue                  3910 non-null   bool   \n",
      " 5   U-Shaped_max                3910 non-null   float64\n",
      " 6   max_standing                3910 non-null   int64  \n",
      " 7   Theatre_max                 3910 non-null   float64\n",
      " 8   Promoted / ticketed events  3910 non-null   bool   \n",
      " 9   Wheelchair accessible       3910 non-null   bool   \n",
      "dtypes: bool(5), float64(2), int64(2), object(1)\n",
      "memory usage: 172.0+ KB\n"
     ]
    }
   ],
   "source": [
    "df.info()"
   ]
  },
  {
   "cell_type": "code",
   "execution_count": 4,
   "metadata": {},
   "outputs": [
    {
     "data": {
      "application/com.datacamp.data-table.v1+json": {
       "is_truncated": false,
       "table": {
        "data": [
         {
          "Theatre_max": 3910,
          "U-Shaped_max": 3910,
          "Venue provides alcohol": 3910,
          "index": "count",
          "max_standing": 3910
         },
         {
          "Theatre_max": 112.7158671587,
          "U-Shaped_max": 35.0454545455,
          "Venue provides alcohol": 0.7132992327,
          "index": "mean",
          "max_standing": 114.2035805627
         },
         {
          "Theatre_max": 131.8532490552,
          "U-Shaped_max": 43.9375907851,
          "Venue provides alcohol": 0.4522784025,
          "index": "std",
          "max_standing": 272.2699431853
         },
         {
          "Theatre_max": 1,
          "U-Shaped_max": 1,
          "Venue provides alcohol": 0,
          "index": "min",
          "max_standing": 0
         },
         {
          "Theatre_max": 80,
          "U-Shaped_max": 35.0454545455,
          "Venue provides alcohol": 0,
          "index": "25%",
          "max_standing": 0
         },
         {
          "Theatre_max": 112.7158671587,
          "U-Shaped_max": 35.0454545455,
          "Venue provides alcohol": 1,
          "index": "50%",
          "max_standing": 50
         },
         {
          "Theatre_max": 112.7158671587,
          "U-Shaped_max": 35.0454545455,
          "Venue provides alcohol": 1,
          "index": "75%",
          "max_standing": 120
         },
         {
          "Theatre_max": 4000,
          "U-Shaped_max": 2520,
          "Venue provides alcohol": 1,
          "index": "max",
          "max_standing": 7500
         }
        ],
        "schema": {
         "fields": [
          {
           "name": "index",
           "type": "string"
          },
          {
           "name": "Venue provides alcohol",
           "type": "number"
          },
          {
           "name": "U-Shaped_max",
           "type": "number"
          },
          {
           "name": "max_standing",
           "type": "number"
          },
          {
           "name": "Theatre_max",
           "type": "number"
          }
         ],
         "pandas_version": "0.20.0",
         "primaryKey": [
          "index"
         ]
        }
       },
       "total_rows": 8
      },
      "text/html": [
       "<div>\n",
       "<style scoped>\n",
       "    .dataframe tbody tr th:only-of-type {\n",
       "        vertical-align: middle;\n",
       "    }\n",
       "\n",
       "    .dataframe tbody tr th {\n",
       "        vertical-align: top;\n",
       "    }\n",
       "\n",
       "    .dataframe thead th {\n",
       "        text-align: right;\n",
       "    }\n",
       "</style>\n",
       "<table border=\"1\" class=\"dataframe\">\n",
       "  <thead>\n",
       "    <tr style=\"text-align: right;\">\n",
       "      <th></th>\n",
       "      <th>Venue provides alcohol</th>\n",
       "      <th>U-Shaped_max</th>\n",
       "      <th>max_standing</th>\n",
       "      <th>Theatre_max</th>\n",
       "    </tr>\n",
       "  </thead>\n",
       "  <tbody>\n",
       "    <tr>\n",
       "      <th>count</th>\n",
       "      <td>3910.000000</td>\n",
       "      <td>3910.000000</td>\n",
       "      <td>3910.000000</td>\n",
       "      <td>3910.000000</td>\n",
       "    </tr>\n",
       "    <tr>\n",
       "      <th>mean</th>\n",
       "      <td>0.713299</td>\n",
       "      <td>35.045455</td>\n",
       "      <td>114.203581</td>\n",
       "      <td>112.715867</td>\n",
       "    </tr>\n",
       "    <tr>\n",
       "      <th>std</th>\n",
       "      <td>0.452278</td>\n",
       "      <td>43.937591</td>\n",
       "      <td>272.269943</td>\n",
       "      <td>131.853249</td>\n",
       "    </tr>\n",
       "    <tr>\n",
       "      <th>min</th>\n",
       "      <td>0.000000</td>\n",
       "      <td>1.000000</td>\n",
       "      <td>0.000000</td>\n",
       "      <td>1.000000</td>\n",
       "    </tr>\n",
       "    <tr>\n",
       "      <th>25%</th>\n",
       "      <td>0.000000</td>\n",
       "      <td>35.045455</td>\n",
       "      <td>0.000000</td>\n",
       "      <td>80.000000</td>\n",
       "    </tr>\n",
       "    <tr>\n",
       "      <th>50%</th>\n",
       "      <td>1.000000</td>\n",
       "      <td>35.045455</td>\n",
       "      <td>50.000000</td>\n",
       "      <td>112.715867</td>\n",
       "    </tr>\n",
       "    <tr>\n",
       "      <th>75%</th>\n",
       "      <td>1.000000</td>\n",
       "      <td>35.045455</td>\n",
       "      <td>120.000000</td>\n",
       "      <td>112.715867</td>\n",
       "    </tr>\n",
       "    <tr>\n",
       "      <th>max</th>\n",
       "      <td>1.000000</td>\n",
       "      <td>2520.000000</td>\n",
       "      <td>7500.000000</td>\n",
       "      <td>4000.000000</td>\n",
       "    </tr>\n",
       "  </tbody>\n",
       "</table>\n",
       "</div>"
      ],
      "text/plain": [
       "       Venue provides alcohol  U-Shaped_max  max_standing  Theatre_max\n",
       "count             3910.000000   3910.000000   3910.000000  3910.000000\n",
       "mean                 0.713299     35.045455    114.203581   112.715867\n",
       "std                  0.452278     43.937591    272.269943   131.853249\n",
       "min                  0.000000      1.000000      0.000000     1.000000\n",
       "25%                  0.000000     35.045455      0.000000    80.000000\n",
       "50%                  1.000000     35.045455     50.000000   112.715867\n",
       "75%                  1.000000     35.045455    120.000000   112.715867\n",
       "max                  1.000000   2520.000000   7500.000000  4000.000000"
      ]
     },
     "execution_count": 4,
     "metadata": {},
     "output_type": "execute_result"
    }
   ],
   "source": [
    "df.describe()"
   ]
  },
  {
   "cell_type": "code",
   "execution_count": 5,
   "metadata": {},
   "outputs": [
    {
     "name": "stdout",
     "output_type": "stream",
     "text": [
      "0.5\n"
     ]
    }
   ],
   "source": [
    "# What percentage of venues in the dataset have wheelchair access?\n",
    "print(df['Wheelchair accessible'].sum() / len(df['Wheelchair accessible']))"
   ]
  },
  {
   "cell_type": "code",
   "execution_count": 6,
   "metadata": {},
   "outputs": [
    {
     "data": {
      "application/com.datacamp.data-table.v1+json": {
       "is_truncated": false,
       "table": {
        "data": [
         {
          "Loud music / events": true,
          "Promoted / ticketed events": true,
          "Theatre_max": 4000,
          "U-Shaped_max": 35.0454545455,
          "Venue provides alcohol": 0,
          "Wheelchair accessible": true,
          "Wi-Fi": false,
          "index": 2708,
          "max_standing": 4000,
          "supervenue": false,
          "venue_name": "evolution london"
         },
         {
          "Loud music / events": true,
          "Promoted / ticketed events": true,
          "Theatre_max": 2500,
          "U-Shaped_max": 35.0454545455,
          "Venue provides alcohol": 1,
          "Wheelchair accessible": true,
          "Wi-Fi": true,
          "index": 3606,
          "max_standing": 2500,
          "supervenue": false,
          "venue_name": "alexandra palace"
         },
         {
          "Loud music / events": true,
          "Promoted / ticketed events": true,
          "Theatre_max": 2000,
          "U-Shaped_max": 35.0454545455,
          "Venue provides alcohol": 1,
          "Wheelchair accessible": false,
          "Wi-Fi": true,
          "index": 943,
          "max_standing": 1500,
          "supervenue": false,
          "venue_name": "troxy"
         },
         {
          "Loud music / events": false,
          "Promoted / ticketed events": true,
          "Theatre_max": 1943,
          "U-Shaped_max": 35.0454545455,
          "Venue provides alcohol": 1,
          "Wheelchair accessible": true,
          "Wi-Fi": true,
          "index": 2377,
          "max_standing": 0,
          "supervenue": false,
          "venue_name": "barbican"
         },
         {
          "Loud music / events": false,
          "Promoted / ticketed events": true,
          "Theatre_max": 1920,
          "U-Shaped_max": 35.0454545455,
          "Venue provides alcohol": 1,
          "Wheelchair accessible": true,
          "Wi-Fi": true,
          "index": 2926,
          "max_standing": 3000,
          "supervenue": false,
          "venue_name": "magazine london"
         }
        ],
        "schema": {
         "fields": [
          {
           "name": "index",
           "type": "integer"
          },
          {
           "name": "venue_name",
           "type": "string"
          },
          {
           "name": "Loud music / events",
           "type": "boolean"
          },
          {
           "name": "Venue provides alcohol",
           "type": "integer"
          },
          {
           "name": "Wi-Fi",
           "type": "boolean"
          },
          {
           "name": "supervenue",
           "type": "boolean"
          },
          {
           "name": "U-Shaped_max",
           "type": "number"
          },
          {
           "name": "max_standing",
           "type": "integer"
          },
          {
           "name": "Theatre_max",
           "type": "number"
          },
          {
           "name": "Promoted / ticketed events",
           "type": "boolean"
          },
          {
           "name": "Wheelchair accessible",
           "type": "boolean"
          }
         ],
         "pandas_version": "0.20.0",
         "primaryKey": [
          "index"
         ]
        }
       },
       "total_rows": 5
      },
      "text/html": [
       "<div>\n",
       "<style scoped>\n",
       "    .dataframe tbody tr th:only-of-type {\n",
       "        vertical-align: middle;\n",
       "    }\n",
       "\n",
       "    .dataframe tbody tr th {\n",
       "        vertical-align: top;\n",
       "    }\n",
       "\n",
       "    .dataframe thead th {\n",
       "        text-align: right;\n",
       "    }\n",
       "</style>\n",
       "<table border=\"1\" class=\"dataframe\">\n",
       "  <thead>\n",
       "    <tr style=\"text-align: right;\">\n",
       "      <th></th>\n",
       "      <th>venue_name</th>\n",
       "      <th>Loud music / events</th>\n",
       "      <th>Venue provides alcohol</th>\n",
       "      <th>Wi-Fi</th>\n",
       "      <th>supervenue</th>\n",
       "      <th>U-Shaped_max</th>\n",
       "      <th>max_standing</th>\n",
       "      <th>Theatre_max</th>\n",
       "      <th>Promoted / ticketed events</th>\n",
       "      <th>Wheelchair accessible</th>\n",
       "    </tr>\n",
       "  </thead>\n",
       "  <tbody>\n",
       "    <tr>\n",
       "      <th>2708</th>\n",
       "      <td>evolution london</td>\n",
       "      <td>True</td>\n",
       "      <td>0</td>\n",
       "      <td>False</td>\n",
       "      <td>False</td>\n",
       "      <td>35.045455</td>\n",
       "      <td>4000</td>\n",
       "      <td>4000.0</td>\n",
       "      <td>True</td>\n",
       "      <td>True</td>\n",
       "    </tr>\n",
       "    <tr>\n",
       "      <th>3606</th>\n",
       "      <td>alexandra palace</td>\n",
       "      <td>True</td>\n",
       "      <td>1</td>\n",
       "      <td>True</td>\n",
       "      <td>False</td>\n",
       "      <td>35.045455</td>\n",
       "      <td>2500</td>\n",
       "      <td>2500.0</td>\n",
       "      <td>True</td>\n",
       "      <td>True</td>\n",
       "    </tr>\n",
       "    <tr>\n",
       "      <th>943</th>\n",
       "      <td>troxy</td>\n",
       "      <td>True</td>\n",
       "      <td>1</td>\n",
       "      <td>True</td>\n",
       "      <td>False</td>\n",
       "      <td>35.045455</td>\n",
       "      <td>1500</td>\n",
       "      <td>2000.0</td>\n",
       "      <td>True</td>\n",
       "      <td>False</td>\n",
       "    </tr>\n",
       "    <tr>\n",
       "      <th>2377</th>\n",
       "      <td>barbican</td>\n",
       "      <td>False</td>\n",
       "      <td>1</td>\n",
       "      <td>True</td>\n",
       "      <td>False</td>\n",
       "      <td>35.045455</td>\n",
       "      <td>0</td>\n",
       "      <td>1943.0</td>\n",
       "      <td>True</td>\n",
       "      <td>True</td>\n",
       "    </tr>\n",
       "    <tr>\n",
       "      <th>2926</th>\n",
       "      <td>magazine london</td>\n",
       "      <td>False</td>\n",
       "      <td>1</td>\n",
       "      <td>True</td>\n",
       "      <td>False</td>\n",
       "      <td>35.045455</td>\n",
       "      <td>3000</td>\n",
       "      <td>1920.0</td>\n",
       "      <td>True</td>\n",
       "      <td>True</td>\n",
       "    </tr>\n",
       "  </tbody>\n",
       "</table>\n",
       "</div>"
      ],
      "text/plain": [
       "            venue_name  Loud music / events  Venue provides alcohol  Wi-Fi  \\\n",
       "2708  evolution london                 True                       0  False   \n",
       "3606  alexandra palace                 True                       1   True   \n",
       "943              troxy                 True                       1   True   \n",
       "2377          barbican                False                       1   True   \n",
       "2926   magazine london                False                       1   True   \n",
       "\n",
       "      supervenue  U-Shaped_max  max_standing  Theatre_max  \\\n",
       "2708       False     35.045455          4000       4000.0   \n",
       "3606       False     35.045455          2500       2500.0   \n",
       "943        False     35.045455          1500       2000.0   \n",
       "2377       False     35.045455             0       1943.0   \n",
       "2926       False     35.045455          3000       1920.0   \n",
       "\n",
       "      Promoted / ticketed events  Wheelchair accessible  \n",
       "2708                        True                   True  \n",
       "3606                        True                   True  \n",
       "943                         True                  False  \n",
       "2377                        True                   True  \n",
       "2926                        True                   True  "
      ]
     },
     "execution_count": 6,
     "metadata": {},
     "output_type": "execute_result"
    }
   ],
   "source": [
    "# Check largest venues to make sure outliers are realistic\n",
    "df.sort_values('Theatre_max', ascending=False).head()"
   ]
  },
  {
   "cell_type": "code",
   "execution_count": 7,
   "metadata": {},
   "outputs": [
    {
     "data": {
      "application/com.datacamp.data-table.v1+json": {
       "is_truncated": false,
       "table": {
        "data": [],
        "schema": {
         "fields": [
          {
           "name": "index",
           "type": "integer"
          },
          {
           "name": "venue_name",
           "type": "string"
          },
          {
           "name": "Loud music / events",
           "type": "boolean"
          },
          {
           "name": "Venue provides alcohol",
           "type": "integer"
          },
          {
           "name": "Wi-Fi",
           "type": "boolean"
          },
          {
           "name": "supervenue",
           "type": "boolean"
          },
          {
           "name": "U-Shaped_max",
           "type": "number"
          },
          {
           "name": "max_standing",
           "type": "integer"
          },
          {
           "name": "Theatre_max",
           "type": "number"
          },
          {
           "name": "Promoted / ticketed events",
           "type": "boolean"
          },
          {
           "name": "Wheelchair accessible",
           "type": "boolean"
          }
         ],
         "pandas_version": "0.20.0",
         "primaryKey": [
          "index"
         ]
        }
       },
       "total_rows": 0
      },
      "text/html": [
       "<div>\n",
       "<style scoped>\n",
       "    .dataframe tbody tr th:only-of-type {\n",
       "        vertical-align: middle;\n",
       "    }\n",
       "\n",
       "    .dataframe tbody tr th {\n",
       "        vertical-align: top;\n",
       "    }\n",
       "\n",
       "    .dataframe thead th {\n",
       "        text-align: right;\n",
       "    }\n",
       "</style>\n",
       "<table border=\"1\" class=\"dataframe\">\n",
       "  <thead>\n",
       "    <tr style=\"text-align: right;\">\n",
       "      <th></th>\n",
       "      <th>venue_name</th>\n",
       "      <th>Loud music / events</th>\n",
       "      <th>Venue provides alcohol</th>\n",
       "      <th>Wi-Fi</th>\n",
       "      <th>supervenue</th>\n",
       "      <th>U-Shaped_max</th>\n",
       "      <th>max_standing</th>\n",
       "      <th>Theatre_max</th>\n",
       "      <th>Promoted / ticketed events</th>\n",
       "      <th>Wheelchair accessible</th>\n",
       "    </tr>\n",
       "  </thead>\n",
       "  <tbody>\n",
       "  </tbody>\n",
       "</table>\n",
       "</div>"
      ],
      "text/plain": [
       "Empty DataFrame\n",
       "Columns: [venue_name, Loud music / events, Venue provides alcohol, Wi-Fi, supervenue, U-Shaped_max, max_standing, Theatre_max, Promoted / ticketed events, Wheelchair accessible]\n",
       "Index: []"
      ]
     },
     "execution_count": 7,
     "metadata": {},
     "output_type": "execute_result"
    }
   ],
   "source": [
    "# Check there are no venues with 0 capacity listed\n",
    "df[(df.Theatre_max + df.max_standing + df['U-Shaped_max']) == 0]"
   ]
  },
  {
   "cell_type": "markdown",
   "metadata": {},
   "source": [
    "<b>Note:</b> There are 3910 venues listed in the data. Of which, 50% have wheelchair access. \n",
    "\n",
    "\n",
    "There are no missing values in the data. Nor are there any clearly wrong variables - no negative venue capacities, for example. Boolean columns are correctly attributed. \n",
    "\n",
    "\n",
    "No venues are shown to have 0 capacity, and all venues with high capacity are famous large venues (Evolution London, Alexandra Palace) so will be correct."
   ]
  },
  {
   "cell_type": "code",
   "execution_count": 8,
   "metadata": {},
   "outputs": [
    {
     "name": "stdout",
     "output_type": "stream",
     "text": [
      "112.715867     2284\n",
      "40.000000       136\n",
      "60.000000       110\n",
      "30.000000       105\n",
      "80.000000       100\n",
      "               ... \n",
      "158.000000        1\n",
      "162.000000        1\n",
      "1920.000000       1\n",
      "210.000000        1\n",
      "54.000000         1\n",
      "Name: Theatre_max, Length: 166, dtype: int64\n",
      "35.045455     2920\n",
      "30.000000      110\n",
      "20.000000       95\n",
      "40.000000       77\n",
      "15.000000       52\n",
      "              ... \n",
      "98.000000        1\n",
      "29.000000        1\n",
      "140.000000       1\n",
      "11.000000        1\n",
      "54.000000        1\n",
      "Name: U-Shaped_max, Length: 81, dtype: int64\n"
     ]
    }
   ],
   "source": [
    "# Check float columns that should be integers\n",
    "print(df['Theatre_max'].value_counts())\n",
    "print(df['U-Shaped_max'].value_counts())"
   ]
  },
  {
   "cell_type": "markdown",
   "metadata": {},
   "source": [
    "<b>Note:</b> The one unusual exception is the large number (~2000) of non-integer values in 'U-Shaped_max' and 'Theatre_max' columns. Looking at the values, these are equal to the mean of the respective columns, so must have been missing data that was filled in with the column average. However, this may not be the ideal way of filling the unknowns, as shown below."
   ]
  },
  {
   "cell_type": "code",
   "execution_count": 9,
   "metadata": {},
   "outputs": [
    {
     "data": {
      "text/plain": [
       "<AxesSubplot:xlabel='Theatre_max', ylabel='Count'>"
      ]
     },
     "execution_count": 9,
     "metadata": {},
     "output_type": "execute_result"
    },
    {
     "data": {
      "image/png": "[encoded data removed]",
      "text/plain": [
       "<Figure size 432x288 with 1 Axes>"
      ]
     },
     "metadata": {
      "needs_background": "light"
     },
     "output_type": "display_data"
    }
   ],
   "source": [
    "# Plot histogram of Theatre_max with mean values removed\n",
    "theatre_max_mean = df.loc[0,'Theatre_max']\n",
    "theatre_max_df = df[df['Theatre_max'] != theatre_max_mean]\n",
    "sns.histplot(x='Theatre_max', data = theatre_max_df)"
   ]
  },
  {
   "cell_type": "code",
   "execution_count": 10,
   "metadata": {},
   "outputs": [
    {
     "data": {
      "text/plain": [
       "<AxesSubplot:xlabel='U-Shaped_max', ylabel='Count'>"
      ]
     },
     "execution_count": 10,
     "metadata": {},
     "output_type": "execute_result"
    },
    {
     "data": {
      "image/png": "[encoded data removed]",
      "text/plain": [
       "<Figure size 432x288 with 1 Axes>"
      ]
     },
     "metadata": {
      "needs_background": "light"
     },
     "output_type": "display_data"
    }
   ],
   "source": [
    "# Plot histogram of U-Shaped_max with mean values removed\n",
    "u_Shaped_max_mean = df.loc[0,'U-Shaped_max']\n",
    "u_Shaped_max_df = df[df['U-Shaped_max'] != u_Shaped_max_mean]\n",
    "sns.histplot(x='U-Shaped_max', data = u_Shaped_max_df)"
   ]
  },
  {
   "cell_type": "markdown",
   "metadata": {},
   "source": [
    "<b>Note:</b> As you can see from the histogram, the distribution of both features is heavily skewed to the left with few large outliers. As such, the mean values would be better replaced with median values."
   ]
  },
  {
   "cell_type": "code",
   "execution_count": 11,
   "metadata": {},
   "outputs": [],
   "source": [
    "# Replace Mean Values with Median Values\n",
    "theatre_max_median = theatre_max_df['Theatre_max'].median()\n",
    "df['Theatre_max'].replace(theatre_max_mean,theatre_max_median, inplace=True)\n",
    "\n",
    "u_Shaped_max_median = u_Shaped_max_df['U-Shaped_max'].median()\n",
    "df['U-Shaped_max'].replace(u_Shaped_max_mean,u_Shaped_max_median, inplace=True)\n",
    "#df.head()"
   ]
  },
  {
   "cell_type": "code",
   "execution_count": 12,
   "metadata": {},
   "outputs": [
    {
     "data": {
      "image/png": "[encoded data removed]",
      "text/plain": [
       "<Figure size 1152x432 with 2 Axes>"
      ]
     },
     "metadata": {
      "needs_background": "light"
     },
     "output_type": "display_data"
    }
   ],
   "source": [
    "# Plot a correlation heatmap\n",
    "plt.figure(figsize=(16, 6))\n",
    "heatmap = sns.heatmap(df.corr(), vmin=-1, vmax=1, annot=True,cmap='BrBG')\n",
    "heatmap.set_title('Correlation Heatmap', fontdict={'fontsize':12}, pad=12);\n"
   ]
  },
  {
   "cell_type": "markdown",
   "metadata": {},
   "source": [
    "<b>Note:</b> Most features are weakly correlated with the target variable. The top three most correlated are: 'Promoted / ticketed events' (0.16), 'Theatre_max' (0.15), then 'max_standing' and Venue provides alcohol (both 0.14). No features can obviously be discounted, so I will leave them all in.\n",
    "\n",
    "However, we can drop the 'venue_name' column, as this will have no impact on our target variable so is not needed for the model."
   ]
  },
  {
   "cell_type": "code",
   "execution_count": 13,
   "metadata": {},
   "outputs": [],
   "source": [
    "# Drop venue_name column\n",
    "df.drop('venue_name', axis=1, inplace=True)"
   ]
  },
  {
   "cell_type": "markdown",
   "metadata": {},
   "source": [
    "<h2> Model Fitting </h2>\n",
    "In order to build the ML model, I will first split the data into train-test splits.\n",
    "Then, I will use the ensemble method to test various potential algorithms to see which performs best on the data. Once I have identified the best algorithm, I will tune the parameters using GridSearchCV.\n"
   ]
  },
  {
   "cell_type": "code",
   "execution_count": 14,
   "metadata": {},
   "outputs": [],
   "source": [
    "# Split data into train-test split\n",
    "TARGET_VARIABLE = 'Wheelchair accessible'\n",
    "\n",
    "X = df.loc[:, df.columns != TARGET_VARIABLE]\n",
    "y = df[TARGET_VARIABLE]\n",
    "\n",
    "X_train, X_test, y_train, y_test = train_test_split(X, y,\n",
    "                                                    random_state=0)"
   ]
  },
  {
   "cell_type": "code",
   "execution_count": 15,
   "metadata": {},
   "outputs": [],
   "source": [
    "# Set up models to test\n",
    "\n",
    "#Random Forest:\n",
    "random_forest = RandomForestClassifier(n_estimators=100, random_state=42)\n",
    "#Logistic Regression\n",
    "logreg = LogisticRegression()\n",
    "#K Nearest Neighbor:\n",
    "knn = KNeighborsClassifier(n_neighbors = 3) \n",
    "# Gaussian Naive Bayes:\n",
    "gaussian = GaussianNB()\n",
    "# Perceptron:\n",
    "perceptron = Perceptron(max_iter=10)\n",
    "# Support Vector Machine:\n",
    "svc = SVC()\n",
    "#Linear Support Vector Machine:\n",
    "linear_svc = LinearSVC()\n",
    " "
   ]
  },
  {
   "cell_type": "code",
   "execution_count": 16,
   "metadata": {},
   "outputs": [],
   "source": [
    "#Set classifiers for Ensemble Method\n",
    "classifiers = [('Random Forest',random_forest),\n",
    "               ('Logistic Regression', logreg), \n",
    "               ('K Nearest Neighbours', knn), \n",
    "               ('Gaussian Naive Bayes', gaussian), \n",
    "               ('Perceptron',perceptron),\n",
    "               ('Support Vector Machine', svc), \n",
    "               ('Linear Support Vector Machine', linear_svc), \n",
    "              ]"
   ]
  },
  {
   "cell_type": "code",
   "execution_count": 17,
   "metadata": {},
   "outputs": [
    {
     "name": "stdout",
     "output_type": "stream",
     "text": [
      "Random Forest : 0.847\n",
      "Logistic Regression : 0.626\n",
      "K Nearest Neighbours : 0.754\n",
      "Gaussian Naive Bayes : 0.565\n",
      "Perceptron : 0.510\n",
      "Support Vector Machine : 0.586\n",
      "Linear Support Vector Machine : 0.501\n"
     ]
    }
   ],
   "source": [
    "# Iterate over the pre-defined list of classifiers\n",
    "for clf_name, clf in classifiers:    \n",
    " \n",
    "    # Fit clf to the training set\n",
    "    clf.fit(X_train, y_train)    \n",
    "   \n",
    "    # Predict y_pred\n",
    "    y_pred = clf.predict(X_train)\n",
    "    \n",
    "    # Calculate accuracy\n",
    "    accuracy = accuracy_score(y_pred, y_train) \n",
    "   \n",
    "    # Evaluate clf's accuracy on the training set\n",
    "    print('{:s} : {:.3f}'.format(clf_name, accuracy))\n"
   ]
  },
  {
   "cell_type": "markdown",
   "metadata": {},
   "source": [
    "<b>Note:</b> As we can see from the above results, the model which performs best on the training data is the Random Forest Classifier. As such, I will tune the hyperparameters using Grid Search Cross Validation."
   ]
  },
  {
   "cell_type": "code",
   "execution_count": 18,
   "metadata": {},
   "outputs": [],
   "source": [
    "# Set up parameter grid for tuning\n",
    "param_grid = { \n",
    "    'n_estimators': [50, 100, 200],\n",
    "    'max_features': ['auto', 'sqrt', 'log2'],\n",
    "    'max_depth' : [4,5,6,7,8],\n",
    "    'criterion' :['gini', 'entropy']\n",
    "}"
   ]
  },
  {
   "cell_type": "code",
   "execution_count": 19,
   "metadata": {},
   "outputs": [
    {
     "data": {
      "text/plain": [
       "GridSearchCV(cv=5, estimator=RandomForestClassifier(random_state=42),\n",
       "             param_grid={'criterion': ['gini', 'entropy'],\n",
       "                         'max_depth': [4, 5, 6, 7, 8],\n",
       "                         'max_features': ['auto', 'sqrt', 'log2'],\n",
       "                         'n_estimators': [50, 100, 200]})"
      ]
     },
     "execution_count": 19,
     "metadata": {},
     "output_type": "execute_result"
    }
   ],
   "source": [
    "# Run GridsearchCV on esitmator\n",
    "CV_rfc = GridSearchCV(estimator=random_forest, param_grid=param_grid, cv= 5)\n",
    "CV_rfc.fit(X_train, y_train)"
   ]
  },
  {
   "cell_type": "code",
   "execution_count": 20,
   "metadata": {},
   "outputs": [
    {
     "data": {
      "text/plain": [
       "{'criterion': 'gini',\n",
       " 'max_depth': 7,\n",
       " 'max_features': 'auto',\n",
       " 'n_estimators': 100}"
      ]
     },
     "execution_count": 20,
     "metadata": {},
     "output_type": "execute_result"
    }
   ],
   "source": [
    "#Extract best parameters\n",
    "CV_rfc.best_params_"
   ]
  },
  {
   "cell_type": "code",
   "execution_count": 21,
   "metadata": {},
   "outputs": [],
   "source": [
    "# Input best params into new classifier\n",
    "rfc1=RandomForestClassifier(max_features='auto', n_estimators= 100, max_depth=7, criterion='gini')"
   ]
  },
  {
   "cell_type": "markdown",
   "metadata": {},
   "source": [
    "<h2> Model Evaluation </h2>"
   ]
  },
  {
   "cell_type": "markdown",
   "metadata": {},
   "source": [
    "Now we have tuned the model, I will evaluate it on the test data, first using the original train-test split, and then confirm using Repeated Stratified Fold Cross Valitadtion for greater accuracy."
   ]
  },
  {
   "cell_type": "code",
   "execution_count": 22,
   "metadata": {},
   "outputs": [
    {
     "name": "stdout",
     "output_type": "stream",
     "text": [
      "Accuracy for Random Forest on CV data:  0.6666666666666666\n"
     ]
    }
   ],
   "source": [
    "# Model evaluation on original split\n",
    "rfc1.fit(X_train, y_train)\n",
    "pred=rfc1.predict(X_test)\n",
    "print(\"Accuracy for Random Forest on CV data: \",accuracy_score(y_test,pred))\n"
   ]
  },
  {
   "cell_type": "code",
   "execution_count": 23,
   "metadata": {},
   "outputs": [
    {
     "name": "stdout",
     "output_type": "stream",
     "text": [
      "[0.68797954 0.61636829 0.63171355 0.67519182 0.66240409 0.66496164\n",
      " 0.70076726 0.69565217 0.69309463 0.65473146 0.68286445 0.70332481\n",
      " 0.63938619 0.67519182 0.68030691 0.65473146 0.65217391 0.64194373\n",
      " 0.67774936 0.63682864 0.65984655 0.68542199 0.65473146 0.65217391\n",
      " 0.70332481 0.70332481 0.64194373 0.65473146 0.65473146 0.60102302]\n",
      "The average accuracy over all the folds is 0.66\n"
     ]
    }
   ],
   "source": [
    "# Model evaluation using RepeatedStratifiedKFold Cross Validation\n",
    "cv = RepeatedStratifiedKFold(n_splits=10, n_repeats=3, random_state=1)\n",
    "n_scores = cross_val_score(rfc1, X, y, scoring='accuracy', cv=cv, n_jobs=-1, error_score='raise')\n",
    "# report performance\n",
    "print(n_scores)\n",
    "print('The average accuracy over all the folds is %.2f' % np.mean(n_scores))"
   ]
  },
  {
   "cell_type": "markdown",
   "metadata": {},
   "source": [
    "<h2> Results </h2>"
   ]
  },
  {
   "cell_type": "markdown",
   "metadata": {},
   "source": [
    "As we can see from the model evaluation above, our model has an accuracy of 66%, which means that we will be able to correctly predict the target variable given features 2/3rds of the time, as requested.\n",
    "\n"
   ]
  },
  {
   "cell_type": "markdown",
   "metadata": {},
   "source": [
    "<i>\"It is a waste of time to contact venues that already have a ramp installed, and it also looks bad for the company. Therefore, it is especially important to exclude locations that already have a ramp. Ideally, at least two-thirds of venues predicted to be without a ramp should not have a ramp.\"</i>\n"
   ]
  },
  {
   "cell_type": "markdown",
   "metadata": {},
   "source": [
    "This model will help the company in reaching out to businesses that are more likely to require installation of wheelchair access.  Without the model, representatives would reach out to the wrong clients 60% of the time, which is a 45% increase in accuracy.\n"
   ]
  },
  {
   "cell_type": "markdown",
   "metadata": {},
   "source": [
    "Moving forward, this model could be improved in a number of ways. The most obvious one is to improve the original dataset to fill in what were unknown values in the two max capacity columns we dealt with in the preprocessing stage. If these were accurate values rather than estimates, our model's accuracy would improve. Other than that, we could also increase the number of observations in the dataset, or include more information about each observation if it were feasible to do so."
   ]
  },
  {
   "cell_type": "markdown",
   "metadata": {},
   "source": [
    "Now this is developed, the end user (our representatives) will be able to take data from other venues either in London or across the UK and predict which are most likely to require our services. They will also be able to help us improve the model by feeding back any more data that is gained so we can further improve our predictions."
   ]
  },
  {
   "cell_type": "code",
   "execution_count": null,
   "metadata": {},
   "outputs": [],
   "source": []
  },
  {
   "cell_type": "code",
   "execution_count": null,
   "metadata": {},
   "outputs": [],
   "source": []
  },
  {
   "cell_type": "code",
   "execution_count": null,
   "metadata": {},
   "outputs": [],
   "source": []
  },
  {
   "cell_type": "code",
   "execution_count": null,
   "metadata": {},
   "outputs": [],
   "source": []
  },
  {
   "cell_type": "code",
   "execution_count": null,
   "metadata": {},
   "outputs": [],
   "source": []
  }
 ],
 "metadata": {
  "colab": {
   "name": "Welcome to DataCamp Workspaces.ipynb",
   "provenance": []
  },
  "kernelspec": {
   "display_name": "Python 3",
   "language": "python",
   "name": "python3"
  },
  "language_info": {
   "codemirror_mode": {
    "name": "ipython",
    "version": 3
   },
   "file_extension": ".py",
   "mimetype": "text/x-python",
   "name": "python",
   "nbconvert_exporter": "python",
   "pygments_lexer": "ipython3",
   "version": "3.8.5"
  }
 },
 "nbformat": 4,
 "nbformat_minor": 5
}
